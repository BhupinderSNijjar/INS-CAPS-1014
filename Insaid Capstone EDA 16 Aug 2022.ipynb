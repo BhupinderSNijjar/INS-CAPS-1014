{
 "cells": [
  {
   "cell_type": "markdown",
   "id": "357ce954",
   "metadata": {},
   "source": [
    "# INSAID: CAPSTONE GP 1014"
   ]
  },
  {
   "cell_type": "code",
   "execution_count": 1,
   "id": "c6ba94f6",
   "metadata": {},
   "outputs": [],
   "source": [
    "import numpy as np   \n",
    "import pandas as pd                                                 # Importing for panel data analysis\n",
    "pd.set_option('display.max_columns', None)                          # Unfolding hidden features if the cardinality is high\n",
    "pd.set_option('display.max_colwidth', None)                         # Unfolding the max feature width for better clearity\n",
    "pd.set_option('display.max_rows', None)                             # Unfolding hidden data points if the cardinality is high\n",
    "pd.set_option('mode.chained_assignment', None)                      # Removing restriction over chained assignments operations\n",
    "pd.set_option('display.float_format', lambda x: '%.2f' % x)         # To suppress scientific notation over exponential values\n",
    "#-------------------------------------------------------------------------------------------------------------------------------\n",
    "from collections import Counter                                     # For counting hashable objects\n",
    "#-------------------------------------------------------------------------------------------------------------------------------\n",
    "import matplotlib.pyplot as plt                                     # Importing pyplot interface using matplotlib\n",
    "import plotly.graph_objs as go                                      # For Plotly interfaced graphs\n",
    "import seaborn as sns                                               # Importin seaborm library for interactive visualization\n",
    "%matplotlib inline\n",
    "#-------------------------------------------------------------------------------------------------------------------------------\n",
    "import warnings                                                     # Importing warning to disable runtime warnings\n",
    "warnings.filterwarnings(\"ignore\")   # Warnings will appear only once\n",
    "import datetime"
   ]
  },
  {
   "cell_type": "code",
   "execution_count": 2,
   "id": "8490c46c",
   "metadata": {},
   "outputs": [
    {
     "data": {
      "text/html": [
       "<div>\n",
       "<style scoped>\n",
       "    .dataframe tbody tr th:only-of-type {\n",
       "        vertical-align: middle;\n",
       "    }\n",
       "\n",
       "    .dataframe tbody tr th {\n",
       "        vertical-align: top;\n",
       "    }\n",
       "\n",
       "    .dataframe thead th {\n",
       "        text-align: right;\n",
       "    }\n",
       "</style>\n",
       "<table border=\"1\" class=\"dataframe\">\n",
       "  <thead>\n",
       "    <tr style=\"text-align: right;\">\n",
       "      <th></th>\n",
       "      <th>event_id</th>\n",
       "      <th>device_id</th>\n",
       "      <th>timestamp</th>\n",
       "      <th>longitude</th>\n",
       "      <th>latitude</th>\n",
       "      <th>city</th>\n",
       "      <th>state</th>\n",
       "    </tr>\n",
       "  </thead>\n",
       "  <tbody>\n",
       "    <tr>\n",
       "      <th>0</th>\n",
       "      <td>2765368</td>\n",
       "      <td>2973347786994914304.00</td>\n",
       "      <td>2016-05-07 22:52:05</td>\n",
       "      <td>77.23</td>\n",
       "      <td>28.73</td>\n",
       "      <td>Delhi</td>\n",
       "      <td>Delhi</td>\n",
       "    </tr>\n",
       "    <tr>\n",
       "      <th>1</th>\n",
       "      <td>2955066</td>\n",
       "      <td>4734221357723754496.00</td>\n",
       "      <td>2016-05-01 20:44:16</td>\n",
       "      <td>88.39</td>\n",
       "      <td>22.66</td>\n",
       "      <td>Calcutta</td>\n",
       "      <td>WestBengal</td>\n",
       "    </tr>\n",
       "    <tr>\n",
       "      <th>2</th>\n",
       "      <td>605968</td>\n",
       "      <td>-3264499652692492800.00</td>\n",
       "      <td>2016-05-02 14:23:04</td>\n",
       "      <td>77.26</td>\n",
       "      <td>28.76</td>\n",
       "      <td>Delhi</td>\n",
       "      <td>Delhi</td>\n",
       "    </tr>\n",
       "    <tr>\n",
       "      <th>3</th>\n",
       "      <td>448114</td>\n",
       "      <td>5731369272434022400.00</td>\n",
       "      <td>2016-05-03 13:21:16</td>\n",
       "      <td>80.34</td>\n",
       "      <td>13.15</td>\n",
       "      <td>Chennai</td>\n",
       "      <td>TamilNadu</td>\n",
       "    </tr>\n",
       "    <tr>\n",
       "      <th>4</th>\n",
       "      <td>665740</td>\n",
       "      <td>338888002570799936.00</td>\n",
       "      <td>2016-05-06 03:51:05</td>\n",
       "      <td>86.00</td>\n",
       "      <td>23.84</td>\n",
       "      <td>Bokaro</td>\n",
       "      <td>Jharkhand</td>\n",
       "    </tr>\n",
       "  </tbody>\n",
       "</table>\n",
       "</div>"
      ],
      "text/plain": [
       "   event_id               device_id            timestamp  longitude  latitude  \\\n",
       "0   2765368  2973347786994914304.00  2016-05-07 22:52:05      77.23     28.73   \n",
       "1   2955066  4734221357723754496.00  2016-05-01 20:44:16      88.39     22.66   \n",
       "2    605968 -3264499652692492800.00  2016-05-02 14:23:04      77.26     28.76   \n",
       "3    448114  5731369272434022400.00  2016-05-03 13:21:16      80.34     13.15   \n",
       "4    665740   338888002570799936.00  2016-05-06 03:51:05      86.00     23.84   \n",
       "\n",
       "       city       state  \n",
       "0     Delhi       Delhi  \n",
       "1  Calcutta  WestBengal  \n",
       "2     Delhi       Delhi  \n",
       "3   Chennai   TamilNadu  \n",
       "4    Bokaro   Jharkhand  "
      ]
     },
     "execution_count": 2,
     "metadata": {},
     "output_type": "execute_result"
    }
   ],
   "source": [
    "#import data from Excel csv sheet\n",
    "events = pd.read_csv('/Users/bsnijjar/Downloads/events_data.csv')\n",
    "events.head()\n",
    "# show first 5 records\n"
   ]
  },
  {
   "cell_type": "code",
   "execution_count": 3,
   "id": "44ade55a",
   "metadata": {},
   "outputs": [
    {
     "name": "stdout",
     "output_type": "stream",
     "text": [
      "<class 'pandas.core.frame.DataFrame'>\n",
      "RangeIndex: 3252950 entries, 0 to 3252949\n",
      "Data columns (total 7 columns):\n",
      " #   Column     Non-Null Count    Dtype  \n",
      "---  ------     --------------    -----  \n",
      " 0   event_id   3252950 non-null  int64  \n",
      " 1   device_id  3252497 non-null  float64\n",
      " 2   timestamp  3252950 non-null  object \n",
      " 3   longitude  3252527 non-null  float64\n",
      " 4   latitude   3252527 non-null  float64\n",
      " 5   city       3252950 non-null  object \n",
      " 6   state      3252573 non-null  object \n",
      "dtypes: float64(3), int64(1), object(3)\n",
      "memory usage: 173.7+ MB\n"
     ]
    }
   ],
   "source": [
    "events.info(null_counts=True)"
   ]
  },
  {
   "cell_type": "code",
   "execution_count": 4,
   "id": "44b49549",
   "metadata": {},
   "outputs": [],
   "source": [
    "events['timestamp']= pd.to_datetime(events[\"timestamp\"])\n",
    "#datetime64[ns] "
   ]
  },
  {
   "cell_type": "code",
   "execution_count": 5,
   "id": "937bd138",
   "metadata": {},
   "outputs": [
    {
     "name": "stdout",
     "output_type": "stream",
     "text": [
      "<class 'pandas.core.frame.DataFrame'>\n",
      "Int64Index: 3252497 entries, 0 to 3252949\n",
      "Data columns (total 7 columns):\n",
      " #   Column     Non-Null Count    Dtype         \n",
      "---  ------     --------------    -----         \n",
      " 0   event_id   3252497 non-null  int64         \n",
      " 1   device_id  3252497 non-null  float64       \n",
      " 2   timestamp  3252497 non-null  datetime64[ns]\n",
      " 3   longitude  3252074 non-null  float64       \n",
      " 4   latitude   3252074 non-null  float64       \n",
      " 5   city       3252497 non-null  object        \n",
      " 6   state      3252120 non-null  object        \n",
      "dtypes: datetime64[ns](1), float64(3), int64(1), object(2)\n",
      "memory usage: 198.5+ MB\n"
     ]
    }
   ],
   "source": [
    "#Removing Event_ids with no corresponding device_ids\n",
    "events = events[events['device_id'].notna()]\n",
    "events.info(null_counts=True)"
   ]
  },
  {
   "cell_type": "code",
   "execution_count": 6,
   "id": "5773cabe",
   "metadata": {},
   "outputs": [],
   "source": [
    "# For imputing missing state values\n",
    "dict1 = dict(zip(events['city'],events['state']))\n",
    "events.loc[events['state'].isnull(), 'state'] = events['city'].map(dict1)\n"
   ]
  },
  {
   "cell_type": "code",
   "execution_count": 7,
   "id": "a038399a",
   "metadata": {},
   "outputs": [],
   "source": [
    "#For imputing missing latitude values\n",
    "dict2 = dict(zip(events['city'],events['latitude']))\n",
    "events.loc[events['latitude'].isnull(), 'latitude'] = events['city'].map(dict2)"
   ]
  },
  {
   "cell_type": "code",
   "execution_count": 8,
   "id": "c36b6729",
   "metadata": {},
   "outputs": [
    {
     "name": "stdout",
     "output_type": "stream",
     "text": [
      "<class 'pandas.core.frame.DataFrame'>\n",
      "Int64Index: 3252497 entries, 0 to 3252949\n",
      "Data columns (total 7 columns):\n",
      " #   Column     Non-Null Count    Dtype         \n",
      "---  ------     --------------    -----         \n",
      " 0   event_id   3252497 non-null  int64         \n",
      " 1   device_id  3252497 non-null  float64       \n",
      " 2   timestamp  3252497 non-null  datetime64[ns]\n",
      " 3   longitude  3252497 non-null  float64       \n",
      " 4   latitude   3252497 non-null  float64       \n",
      " 5   city       3252497 non-null  object        \n",
      " 6   state      3252497 non-null  object        \n",
      "dtypes: datetime64[ns](1), float64(3), int64(1), object(2)\n",
      "memory usage: 327.5+ MB\n"
     ]
    }
   ],
   "source": [
    "#For imputing missing latitude values\n",
    "dict3 = dict(zip(events['city'],events['longitude']))\n",
    "events.loc[events['longitude'].isnull(), 'longitude'] = events['city'].map(dict3)\n",
    "events.info(null_counts=True)"
   ]
  },
  {
   "cell_type": "code",
   "execution_count": 9,
   "id": "de97df0e",
   "metadata": {
    "scrolled": true
   },
   "outputs": [
    {
     "name": "stdout",
     "output_type": "stream",
     "text": [
      "<class 'pandas.core.frame.DataFrame'>\n",
      "RangeIndex: 60865 entries, 0 to 60864\n",
      "Data columns (total 7 columns):\n",
      " #   Column     Non-Null Count  Dtype         \n",
      "---  ------     --------------  -----         \n",
      " 0   event_id   60865 non-null  int64         \n",
      " 1   device_id  60865 non-null  float64       \n",
      " 2   timestamp  60865 non-null  datetime64[ns]\n",
      " 3   longitude  60865 non-null  float64       \n",
      " 4   latitude   60865 non-null  float64       \n",
      " 5   city       60865 non-null  object        \n",
      " 6   state      60865 non-null  object        \n",
      "dtypes: datetime64[ns](1), float64(3), int64(1), object(2)\n",
      "memory usage: 3.3+ MB\n"
     ]
    }
   ],
   "source": [
    "#Removing Duplicate Values\n",
    "event_s = events.drop_duplicates(subset=['device_id'],keep='first', inplace=False, ignore_index=True)\n",
    "event_s.info()\n"
   ]
  },
  {
   "cell_type": "markdown",
   "id": "e4c54bc7",
   "metadata": {},
   "source": [
    "## Import Gender Age Data Set"
   ]
  },
  {
   "cell_type": "code",
   "execution_count": 10,
   "id": "aad3063e",
   "metadata": {},
   "outputs": [
    {
     "data": {
      "text/html": [
       "<div>\n",
       "<style scoped>\n",
       "    .dataframe tbody tr th:only-of-type {\n",
       "        vertical-align: middle;\n",
       "    }\n",
       "\n",
       "    .dataframe tbody tr th {\n",
       "        vertical-align: top;\n",
       "    }\n",
       "\n",
       "    .dataframe thead th {\n",
       "        text-align: right;\n",
       "    }\n",
       "</style>\n",
       "<table border=\"1\" class=\"dataframe\">\n",
       "  <thead>\n",
       "    <tr style=\"text-align: right;\">\n",
       "      <th></th>\n",
       "      <th>device_id</th>\n",
       "      <th>gender</th>\n",
       "      <th>age</th>\n",
       "      <th>group</th>\n",
       "    </tr>\n",
       "  </thead>\n",
       "  <tbody>\n",
       "    <tr>\n",
       "      <th>0</th>\n",
       "      <td>-8076087639492063270</td>\n",
       "      <td>M</td>\n",
       "      <td>35</td>\n",
       "      <td>M32-38</td>\n",
       "    </tr>\n",
       "    <tr>\n",
       "      <th>1</th>\n",
       "      <td>-2897161552818060146</td>\n",
       "      <td>M</td>\n",
       "      <td>35</td>\n",
       "      <td>M32-38</td>\n",
       "    </tr>\n",
       "    <tr>\n",
       "      <th>2</th>\n",
       "      <td>-8260683887967679142</td>\n",
       "      <td>M</td>\n",
       "      <td>35</td>\n",
       "      <td>M32-38</td>\n",
       "    </tr>\n",
       "    <tr>\n",
       "      <th>3</th>\n",
       "      <td>-4938849341048082022</td>\n",
       "      <td>M</td>\n",
       "      <td>30</td>\n",
       "      <td>M29-31</td>\n",
       "    </tr>\n",
       "    <tr>\n",
       "      <th>4</th>\n",
       "      <td>245133531816851882</td>\n",
       "      <td>M</td>\n",
       "      <td>30</td>\n",
       "      <td>M29-31</td>\n",
       "    </tr>\n",
       "  </tbody>\n",
       "</table>\n",
       "</div>"
      ],
      "text/plain": [
       "             device_id gender  age   group\n",
       "0 -8076087639492063270      M   35  M32-38\n",
       "1 -2897161552818060146      M   35  M32-38\n",
       "2 -8260683887967679142      M   35  M32-38\n",
       "3 -4938849341048082022      M   30  M29-31\n",
       "4   245133531816851882      M   30  M29-31"
      ]
     },
     "execution_count": 10,
     "metadata": {},
     "output_type": "execute_result"
    }
   ],
   "source": [
    "gender = pd.read_csv('/Users/bsnijjar/Downloads/gender_age_train.csv')\n",
    "gender.head()\n",
    "# show first 5 records"
   ]
  },
  {
   "cell_type": "code",
   "execution_count": 11,
   "id": "f4209174",
   "metadata": {},
   "outputs": [
    {
     "name": "stdout",
     "output_type": "stream",
     "text": [
      "<class 'pandas.core.frame.DataFrame'>\n",
      "RangeIndex: 74645 entries, 0 to 74644\n",
      "Data columns (total 4 columns):\n",
      " #   Column     Non-Null Count  Dtype \n",
      "---  ------     --------------  ----- \n",
      " 0   device_id  74645 non-null  int64 \n",
      " 1   gender     74645 non-null  object\n",
      " 2   age        74645 non-null  int64 \n",
      " 3   group      74645 non-null  object\n",
      "dtypes: int64(2), object(2)\n",
      "memory usage: 2.3+ MB\n"
     ]
    }
   ],
   "source": [
    "#Check for missing Values\n",
    "gender.info()"
   ]
  },
  {
   "cell_type": "code",
   "execution_count": 12,
   "id": "522026a8",
   "metadata": {},
   "outputs": [
    {
     "data": {
      "text/plain": [
       "device_id    74645\n",
       "gender           2\n",
       "age             85\n",
       "group           12\n",
       "dtype: int64"
      ]
     },
     "execution_count": 12,
     "metadata": {},
     "output_type": "execute_result"
    }
   ],
   "source": [
    "#Check for number of Unique Genders & other data. All device_ids are unique.\n",
    "gender.nunique()"
   ]
  },
  {
   "cell_type": "code",
   "execution_count": 13,
   "id": "eaf15c7a",
   "metadata": {},
   "outputs": [
    {
     "data": {
      "text/plain": [
       "count   74645.00\n",
       "mean       31.41\n",
       "std         9.87\n",
       "min         1.00\n",
       "25%        25.00\n",
       "50%        29.00\n",
       "75%        36.00\n",
       "max        96.00\n",
       "Name: age, dtype: float64"
      ]
     },
     "execution_count": 13,
     "metadata": {},
     "output_type": "execute_result"
    }
   ],
   "source": [
    "#Gender has 85 unique values ranging from 1 to 96 \n",
    "gender['age'].describe()"
   ]
  },
  {
   "cell_type": "code",
   "execution_count": 14,
   "id": "bd0efec9",
   "metadata": {},
   "outputs": [
    {
     "data": {
      "text/plain": [
       "array(['M32-38', 'M29-31', 'F24-26', 'F33-42', 'F27-28', 'M39+', 'M23-26',\n",
       "       'M27-28', 'M22-', 'F43+', 'F23-', 'F29-32'], dtype=object)"
      ]
     },
     "execution_count": 14,
     "metadata": {},
     "output_type": "execute_result"
    }
   ],
   "source": [
    "#This would need to be re-configured based upon Age without Gender as Gender exists as a seperate column\n",
    "gender['group'].unique()"
   ]
  },
  {
   "cell_type": "code",
   "execution_count": 15,
   "id": "10a16ee9",
   "metadata": {},
   "outputs": [],
   "source": [
    "#creating 10 age brackets independent of the Gender.\n",
    "bins = pd.IntervalIndex.from_tuples([(0,10), (10,20), (20,30),(30,40), (40,50), (50,60),(60,70),\n",
    "                                     (70,80), (80,90),(90,100)])\n",
    "gender['new_group']= pd.cut(np.array(gender['age']),bins) "
   ]
  },
  {
   "cell_type": "code",
   "execution_count": 16,
   "id": "025e8364",
   "metadata": {
    "scrolled": true
   },
   "outputs": [
    {
     "data": {
      "text/html": [
       "<div>\n",
       "<style scoped>\n",
       "    .dataframe tbody tr th:only-of-type {\n",
       "        vertical-align: middle;\n",
       "    }\n",
       "\n",
       "    .dataframe tbody tr th {\n",
       "        vertical-align: top;\n",
       "    }\n",
       "\n",
       "    .dataframe thead th {\n",
       "        text-align: right;\n",
       "    }\n",
       "</style>\n",
       "<table border=\"1\" class=\"dataframe\">\n",
       "  <thead>\n",
       "    <tr style=\"text-align: right;\">\n",
       "      <th></th>\n",
       "      <th>device_id</th>\n",
       "      <th>gender</th>\n",
       "      <th>age</th>\n",
       "      <th>group</th>\n",
       "      <th>new_group</th>\n",
       "    </tr>\n",
       "  </thead>\n",
       "  <tbody>\n",
       "    <tr>\n",
       "      <th>0</th>\n",
       "      <td>-8076087639492063270</td>\n",
       "      <td>M</td>\n",
       "      <td>35</td>\n",
       "      <td>M32-38</td>\n",
       "      <td>(30, 40]</td>\n",
       "    </tr>\n",
       "    <tr>\n",
       "      <th>1</th>\n",
       "      <td>-2897161552818060146</td>\n",
       "      <td>M</td>\n",
       "      <td>35</td>\n",
       "      <td>M32-38</td>\n",
       "      <td>(30, 40]</td>\n",
       "    </tr>\n",
       "    <tr>\n",
       "      <th>2</th>\n",
       "      <td>-8260683887967679142</td>\n",
       "      <td>M</td>\n",
       "      <td>35</td>\n",
       "      <td>M32-38</td>\n",
       "      <td>(30, 40]</td>\n",
       "    </tr>\n",
       "    <tr>\n",
       "      <th>3</th>\n",
       "      <td>-4938849341048082022</td>\n",
       "      <td>M</td>\n",
       "      <td>30</td>\n",
       "      <td>M29-31</td>\n",
       "      <td>(20, 30]</td>\n",
       "    </tr>\n",
       "    <tr>\n",
       "      <th>4</th>\n",
       "      <td>245133531816851882</td>\n",
       "      <td>M</td>\n",
       "      <td>30</td>\n",
       "      <td>M29-31</td>\n",
       "      <td>(20, 30]</td>\n",
       "    </tr>\n",
       "  </tbody>\n",
       "</table>\n",
       "</div>"
      ],
      "text/plain": [
       "             device_id gender  age   group new_group\n",
       "0 -8076087639492063270      M   35  M32-38  (30, 40]\n",
       "1 -2897161552818060146      M   35  M32-38  (30, 40]\n",
       "2 -8260683887967679142      M   35  M32-38  (30, 40]\n",
       "3 -4938849341048082022      M   30  M29-31  (20, 30]\n",
       "4   245133531816851882      M   30  M29-31  (20, 30]"
      ]
     },
     "execution_count": 16,
     "metadata": {},
     "output_type": "execute_result"
    }
   ],
   "source": [
    "#new Column new_group created\n",
    "gender.head()"
   ]
  },
  {
   "cell_type": "code",
   "execution_count": 17,
   "id": "6462837f",
   "metadata": {
    "scrolled": false
   },
   "outputs": [
    {
     "data": {
      "text/plain": [
       "(20, 30]     37544\n",
       "(30, 40]     19715\n",
       "(40, 50]      8009\n",
       "(10, 20]      5415\n",
       "(50, 60]      2624\n",
       "(60, 70]      1053\n",
       "(70, 80]       229\n",
       "(80, 90]        44\n",
       "(0, 10]         10\n",
       "(90, 100]        2\n",
       "Name: new_group, dtype: int64"
      ]
     },
     "execution_count": 17,
     "metadata": {},
     "output_type": "execute_result"
    }
   ],
   "source": [
    "gender['new_group'].value_counts()"
   ]
  },
  {
   "cell_type": "code",
   "execution_count": 18,
   "id": "2a8125cc",
   "metadata": {},
   "outputs": [
    {
     "name": "stdout",
     "output_type": "stream",
     "text": [
      "<class 'pandas.core.frame.DataFrame'>\n",
      "RangeIndex: 74645 entries, 0 to 74644\n",
      "Data columns (total 5 columns):\n",
      " #   Column     Non-Null Count  Dtype   \n",
      "---  ------     --------------  -----   \n",
      " 0   device_id  74645 non-null  int64   \n",
      " 1   gender     74645 non-null  object  \n",
      " 2   age        74645 non-null  int64   \n",
      " 3   group      74645 non-null  object  \n",
      " 4   new_group  74645 non-null  category\n",
      "dtypes: category(1), int64(2), object(2)\n",
      "memory usage: 2.3+ MB\n"
     ]
    }
   ],
   "source": [
    "gender.info()"
   ]
  },
  {
   "cell_type": "code",
   "execution_count": 19,
   "id": "21c3049f",
   "metadata": {
    "scrolled": true
   },
   "outputs": [],
   "source": [
    "#gender.set_index(gender['device_id'],drop=True, append=False, inplace=True, \n",
    "                  #verify_integrity=False)\n",
    "#gender.head()"
   ]
  },
  {
   "cell_type": "code",
   "execution_count": 20,
   "id": "0e84a751",
   "metadata": {},
   "outputs": [
    {
     "data": {
      "text/html": [
       "<div>\n",
       "<style scoped>\n",
       "    .dataframe tbody tr th:only-of-type {\n",
       "        vertical-align: middle;\n",
       "    }\n",
       "\n",
       "    .dataframe tbody tr th {\n",
       "        vertical-align: top;\n",
       "    }\n",
       "\n",
       "    .dataframe thead th {\n",
       "        text-align: right;\n",
       "    }\n",
       "</style>\n",
       "<table border=\"1\" class=\"dataframe\">\n",
       "  <thead>\n",
       "    <tr style=\"text-align: right;\">\n",
       "      <th></th>\n",
       "      <th>device_id</th>\n",
       "      <th>gender</th>\n",
       "      <th>age</th>\n",
       "      <th>new_group</th>\n",
       "    </tr>\n",
       "  </thead>\n",
       "  <tbody>\n",
       "    <tr>\n",
       "      <th>0</th>\n",
       "      <td>-8076087639492063270</td>\n",
       "      <td>M</td>\n",
       "      <td>35</td>\n",
       "      <td>(30, 40]</td>\n",
       "    </tr>\n",
       "    <tr>\n",
       "      <th>1</th>\n",
       "      <td>-2897161552818060146</td>\n",
       "      <td>M</td>\n",
       "      <td>35</td>\n",
       "      <td>(30, 40]</td>\n",
       "    </tr>\n",
       "    <tr>\n",
       "      <th>2</th>\n",
       "      <td>-8260683887967679142</td>\n",
       "      <td>M</td>\n",
       "      <td>35</td>\n",
       "      <td>(30, 40]</td>\n",
       "    </tr>\n",
       "    <tr>\n",
       "      <th>3</th>\n",
       "      <td>-4938849341048082022</td>\n",
       "      <td>M</td>\n",
       "      <td>30</td>\n",
       "      <td>(20, 30]</td>\n",
       "    </tr>\n",
       "    <tr>\n",
       "      <th>4</th>\n",
       "      <td>245133531816851882</td>\n",
       "      <td>M</td>\n",
       "      <td>30</td>\n",
       "      <td>(20, 30]</td>\n",
       "    </tr>\n",
       "  </tbody>\n",
       "</table>\n",
       "</div>"
      ],
      "text/plain": [
       "             device_id gender  age new_group\n",
       "0 -8076087639492063270      M   35  (30, 40]\n",
       "1 -2897161552818060146      M   35  (30, 40]\n",
       "2 -8260683887967679142      M   35  (30, 40]\n",
       "3 -4938849341048082022      M   30  (20, 30]\n",
       "4   245133531816851882      M   30  (20, 30]"
      ]
     },
     "execution_count": 20,
     "metadata": {},
     "output_type": "execute_result"
    }
   ],
   "source": [
    "#Drop older group\n",
    "gender_s = gender.drop(['group'], axis=1)\n",
    "gender_s.head()"
   ]
  },
  {
   "cell_type": "code",
   "execution_count": 21,
   "id": "c23932e7",
   "metadata": {
    "scrolled": true
   },
   "outputs": [
    {
     "name": "stdout",
     "output_type": "stream",
     "text": [
      "<class 'pandas.core.frame.DataFrame'>\n",
      "RangeIndex: 60865 entries, 0 to 60864\n",
      "Data columns (total 7 columns):\n",
      " #   Column     Non-Null Count  Dtype         \n",
      "---  ------     --------------  -----         \n",
      " 0   event_id   60865 non-null  int64         \n",
      " 1   device_id  60865 non-null  float64       \n",
      " 2   timestamp  60865 non-null  datetime64[ns]\n",
      " 3   longitude  60865 non-null  float64       \n",
      " 4   latitude   60865 non-null  float64       \n",
      " 5   city       60865 non-null  object        \n",
      " 6   state      60865 non-null  object        \n",
      "dtypes: datetime64[ns](1), float64(3), int64(1), object(2)\n",
      "memory usage: 3.3+ MB\n"
     ]
    }
   ],
   "source": [
    "event_s.info()"
   ]
  },
  {
   "cell_type": "code",
   "execution_count": 22,
   "id": "c941dbec",
   "metadata": {},
   "outputs": [
    {
     "data": {
      "text/html": [
       "<div>\n",
       "<style scoped>\n",
       "    .dataframe tbody tr th:only-of-type {\n",
       "        vertical-align: middle;\n",
       "    }\n",
       "\n",
       "    .dataframe tbody tr th {\n",
       "        vertical-align: top;\n",
       "    }\n",
       "\n",
       "    .dataframe thead th {\n",
       "        text-align: right;\n",
       "    }\n",
       "</style>\n",
       "<table border=\"1\" class=\"dataframe\">\n",
       "  <thead>\n",
       "    <tr style=\"text-align: right;\">\n",
       "      <th></th>\n",
       "      <th>device_id</th>\n",
       "      <th>timestamp</th>\n",
       "      <th>longitude</th>\n",
       "      <th>latitude</th>\n",
       "      <th>city</th>\n",
       "      <th>state</th>\n",
       "    </tr>\n",
       "  </thead>\n",
       "  <tbody>\n",
       "    <tr>\n",
       "      <th>0</th>\n",
       "      <td>2973347786994914304.00</td>\n",
       "      <td>2016-05-07 22:52:05</td>\n",
       "      <td>77.23</td>\n",
       "      <td>28.73</td>\n",
       "      <td>Delhi</td>\n",
       "      <td>Delhi</td>\n",
       "    </tr>\n",
       "    <tr>\n",
       "      <th>1</th>\n",
       "      <td>4734221357723754496.00</td>\n",
       "      <td>2016-05-01 20:44:16</td>\n",
       "      <td>88.39</td>\n",
       "      <td>22.66</td>\n",
       "      <td>Calcutta</td>\n",
       "      <td>WestBengal</td>\n",
       "    </tr>\n",
       "    <tr>\n",
       "      <th>2</th>\n",
       "      <td>-3264499652692492800.00</td>\n",
       "      <td>2016-05-02 14:23:04</td>\n",
       "      <td>77.26</td>\n",
       "      <td>28.76</td>\n",
       "      <td>Delhi</td>\n",
       "      <td>Delhi</td>\n",
       "    </tr>\n",
       "    <tr>\n",
       "      <th>3</th>\n",
       "      <td>5731369272434022400.00</td>\n",
       "      <td>2016-05-03 13:21:16</td>\n",
       "      <td>80.34</td>\n",
       "      <td>13.15</td>\n",
       "      <td>Chennai</td>\n",
       "      <td>TamilNadu</td>\n",
       "    </tr>\n",
       "    <tr>\n",
       "      <th>4</th>\n",
       "      <td>338888002570799936.00</td>\n",
       "      <td>2016-05-06 03:51:05</td>\n",
       "      <td>86.00</td>\n",
       "      <td>23.84</td>\n",
       "      <td>Bokaro</td>\n",
       "      <td>Jharkhand</td>\n",
       "    </tr>\n",
       "  </tbody>\n",
       "</table>\n",
       "</div>"
      ],
      "text/plain": [
       "                device_id           timestamp  longitude  latitude      city  \\\n",
       "0  2973347786994914304.00 2016-05-07 22:52:05      77.23     28.73     Delhi   \n",
       "1  4734221357723754496.00 2016-05-01 20:44:16      88.39     22.66  Calcutta   \n",
       "2 -3264499652692492800.00 2016-05-02 14:23:04      77.26     28.76     Delhi   \n",
       "3  5731369272434022400.00 2016-05-03 13:21:16      80.34     13.15   Chennai   \n",
       "4   338888002570799936.00 2016-05-06 03:51:05      86.00     23.84    Bokaro   \n",
       "\n",
       "        state  \n",
       "0       Delhi  \n",
       "1  WestBengal  \n",
       "2       Delhi  \n",
       "3   TamilNadu  \n",
       "4   Jharkhand  "
      ]
     },
     "execution_count": 22,
     "metadata": {},
     "output_type": "execute_result"
    }
   ],
   "source": [
    "event_wE = event_s.drop(['event_id'], axis=1)\n",
    "event_wE.head()"
   ]
  },
  {
   "cell_type": "code",
   "execution_count": 23,
   "id": "3926a2a3",
   "metadata": {
    "scrolled": true
   },
   "outputs": [
    {
     "name": "stdout",
     "output_type": "stream",
     "text": [
      "<class 'pandas.core.frame.DataFrame'>\n",
      "Int64Index: 406 entries, 0 to 405\n",
      "Data columns (total 9 columns):\n",
      " #   Column     Non-Null Count  Dtype         \n",
      "---  ------     --------------  -----         \n",
      " 0   device_id  406 non-null    float64       \n",
      " 1   timestamp  406 non-null    datetime64[ns]\n",
      " 2   longitude  406 non-null    float64       \n",
      " 3   latitude   406 non-null    float64       \n",
      " 4   city       406 non-null    object        \n",
      " 5   state      406 non-null    object        \n",
      " 6   gender     406 non-null    object        \n",
      " 7   age        406 non-null    int64         \n",
      " 8   new_group  406 non-null    category      \n",
      "dtypes: category(1), datetime64[ns](1), float64(3), int64(1), object(3)\n",
      "memory usage: 29.4+ KB\n"
     ]
    }
   ],
   "source": [
    "# To identify common customers in the two data sets\n",
    "\n",
    "events_1 = pd.merge(event_wE,gender_s,on='device_id',how='inner')\n",
    "events_1.info(null_counts=True)"
   ]
  },
  {
   "cell_type": "markdown",
   "id": "202d8764",
   "metadata": {},
   "source": [
    "## Import Third Data Set"
   ]
  },
  {
   "cell_type": "code",
   "execution_count": 24,
   "id": "fdc57fbe",
   "metadata": {
    "scrolled": true
   },
   "outputs": [
    {
     "name": "stdout",
     "output_type": "stream",
     "text": [
      "<class 'pandas.core.frame.DataFrame'>\n",
      "RangeIndex: 87726 entries, 0 to 87725\n",
      "Data columns (total 3 columns):\n",
      " #   Column        Non-Null Count  Dtype \n",
      "---  ------        --------------  ----- \n",
      " 0   device_id     87726 non-null  int64 \n",
      " 1   phone_brand   87726 non-null  object\n",
      " 2   device_model  87726 non-null  object\n",
      "dtypes: int64(1), object(2)\n",
      "memory usage: 2.0+ MB\n"
     ]
    }
   ],
   "source": [
    "mobile = pd.read_csv('/Users/bsnijjar/Downloads/phone_brand_device_model.csv')\n",
    "mobile.info()"
   ]
  },
  {
   "cell_type": "code",
   "execution_count": 25,
   "id": "43923f87",
   "metadata": {
    "scrolled": false
   },
   "outputs": [
    {
     "data": {
      "text/html": [
       "<div>\n",
       "<style scoped>\n",
       "    .dataframe tbody tr th:only-of-type {\n",
       "        vertical-align: middle;\n",
       "    }\n",
       "\n",
       "    .dataframe tbody tr th {\n",
       "        vertical-align: top;\n",
       "    }\n",
       "\n",
       "    .dataframe thead th {\n",
       "        text-align: right;\n",
       "    }\n",
       "</style>\n",
       "<table border=\"1\" class=\"dataframe\">\n",
       "  <thead>\n",
       "    <tr style=\"text-align: right;\">\n",
       "      <th></th>\n",
       "      <th>device_id</th>\n",
       "      <th>phone_brand</th>\n",
       "      <th>device_model</th>\n",
       "    </tr>\n",
       "  </thead>\n",
       "  <tbody>\n",
       "    <tr>\n",
       "      <th>0</th>\n",
       "      <td>1877775838486905855</td>\n",
       "      <td>vivo</td>\n",
       "      <td>Y13</td>\n",
       "    </tr>\n",
       "    <tr>\n",
       "      <th>1</th>\n",
       "      <td>-3766087376657242966</td>\n",
       "      <td>小米</td>\n",
       "      <td>V183</td>\n",
       "    </tr>\n",
       "    <tr>\n",
       "      <th>2</th>\n",
       "      <td>-6238937574958215831</td>\n",
       "      <td>OPPO</td>\n",
       "      <td>R7s</td>\n",
       "    </tr>\n",
       "    <tr>\n",
       "      <th>3</th>\n",
       "      <td>8973197758510677470</td>\n",
       "      <td>三星</td>\n",
       "      <td>A368t</td>\n",
       "    </tr>\n",
       "    <tr>\n",
       "      <th>4</th>\n",
       "      <td>-2015528097870762664</td>\n",
       "      <td>小米</td>\n",
       "      <td>红米Note2</td>\n",
       "    </tr>\n",
       "  </tbody>\n",
       "</table>\n",
       "</div>"
      ],
      "text/plain": [
       "             device_id phone_brand device_model\n",
       "0  1877775838486905855        vivo          Y13\n",
       "1 -3766087376657242966          小米         V183\n",
       "2 -6238937574958215831        OPPO          R7s\n",
       "3  8973197758510677470          三星        A368t\n",
       "4 -2015528097870762664          小米      红米Note2"
      ]
     },
     "execution_count": 25,
     "metadata": {},
     "output_type": "execute_result"
    }
   ],
   "source": [
    "mobile.head()"
   ]
  },
  {
   "cell_type": "code",
   "execution_count": 26,
   "id": "c18a4db5",
   "metadata": {},
   "outputs": [],
   "source": [
    "#To work on translating the phone_brand\n",
    "mobile['phone_brand'] = mobile['phone_brand'].astype(pd.StringDtype())"
   ]
  },
  {
   "cell_type": "code",
   "execution_count": 27,
   "id": "959d6490",
   "metadata": {},
   "outputs": [],
   "source": [
    "# creating dictionary for trans table and translating ten values \n",
    "trans_dict ={ '华为':'Huawei', '小米':'Xiaomi', '三星':'Samsung','vivo':'vivo','魅族':'Meizu','酷派':'Coolpad','乐视':'LeEco','联想 ':'Lenovo',\n",
    "             'HTC':'HTC','天语' :'Tianyu', '至尊宝':'Supreme Treasure', 'LG':'LG', '欧博信':'Oboxin', '优米':'Youmi',\n",
    "       'ZUK':'ZUK', '努比亚':'Nubia', '惠普':'HP','中国移动': 'China Mobile','TCL': 'TCL','锤子':'hammer','朵唯':'Dove',\n",
    "           'Youmi':'Youmi','海信' : 'Hisense','一加' : 'one plus','奇酷' : 'cool','语信'  : 'language letter','Tianyu' :'Tianyu',\n",
    "            '摩托罗拉' :'Motorola'}\n",
    " \n",
    "mobile['phone_brand'] = mobile['phone_brand'].replace(trans_dict)\n",
    "   "
   ]
  },
  {
   "cell_type": "code",
   "execution_count": 28,
   "id": "4b515478",
   "metadata": {},
   "outputs": [
    {
     "data": {
      "text/html": [
       "<div>\n",
       "<style scoped>\n",
       "    .dataframe tbody tr th:only-of-type {\n",
       "        vertical-align: middle;\n",
       "    }\n",
       "\n",
       "    .dataframe tbody tr th {\n",
       "        vertical-align: top;\n",
       "    }\n",
       "\n",
       "    .dataframe thead th {\n",
       "        text-align: right;\n",
       "    }\n",
       "</style>\n",
       "<table border=\"1\" class=\"dataframe\">\n",
       "  <thead>\n",
       "    <tr style=\"text-align: right;\">\n",
       "      <th></th>\n",
       "      <th>device_id</th>\n",
       "      <th>phone_brand</th>\n",
       "      <th>device_model</th>\n",
       "    </tr>\n",
       "  </thead>\n",
       "  <tbody>\n",
       "    <tr>\n",
       "      <th>0</th>\n",
       "      <td>1877775838486905855</td>\n",
       "      <td>vivo</td>\n",
       "      <td>Y13</td>\n",
       "    </tr>\n",
       "    <tr>\n",
       "      <th>1</th>\n",
       "      <td>-3766087376657242966</td>\n",
       "      <td>Xiaomi</td>\n",
       "      <td>V183</td>\n",
       "    </tr>\n",
       "    <tr>\n",
       "      <th>2</th>\n",
       "      <td>-6238937574958215831</td>\n",
       "      <td>OPPO</td>\n",
       "      <td>R7s</td>\n",
       "    </tr>\n",
       "    <tr>\n",
       "      <th>3</th>\n",
       "      <td>8973197758510677470</td>\n",
       "      <td>Samsung</td>\n",
       "      <td>A368t</td>\n",
       "    </tr>\n",
       "    <tr>\n",
       "      <th>4</th>\n",
       "      <td>-2015528097870762664</td>\n",
       "      <td>Xiaomi</td>\n",
       "      <td>红米Note2</td>\n",
       "    </tr>\n",
       "  </tbody>\n",
       "</table>\n",
       "</div>"
      ],
      "text/plain": [
       "             device_id phone_brand device_model\n",
       "0  1877775838486905855        vivo          Y13\n",
       "1 -3766087376657242966      Xiaomi         V183\n",
       "2 -6238937574958215831        OPPO          R7s\n",
       "3  8973197758510677470     Samsung        A368t\n",
       "4 -2015528097870762664      Xiaomi      红米Note2"
      ]
     },
     "execution_count": 28,
     "metadata": {},
     "output_type": "execute_result"
    }
   ],
   "source": [
    "#Check Translation\n",
    "mobile.head()"
   ]
  },
  {
   "cell_type": "code",
   "execution_count": 29,
   "id": "13ce58a1",
   "metadata": {
    "scrolled": false
   },
   "outputs": [
    {
     "name": "stdout",
     "output_type": "stream",
     "text": [
      "<class 'pandas.core.frame.DataFrame'>\n",
      "Int64Index: 406 entries, 0 to 405\n",
      "Data columns (total 11 columns):\n",
      " #   Column        Non-Null Count  Dtype         \n",
      "---  ------        --------------  -----         \n",
      " 0   device_id     406 non-null    float64       \n",
      " 1   timestamp     406 non-null    datetime64[ns]\n",
      " 2   longitude     406 non-null    float64       \n",
      " 3   latitude      406 non-null    float64       \n",
      " 4   city          406 non-null    object        \n",
      " 5   state         406 non-null    object        \n",
      " 6   gender        406 non-null    object        \n",
      " 7   age           406 non-null    int64         \n",
      " 8   new_group     406 non-null    category      \n",
      " 9   phone_brand   406 non-null    object        \n",
      " 10  device_model  406 non-null    object        \n",
      "dtypes: category(1), datetime64[ns](1), float64(3), int64(1), object(5)\n",
      "memory usage: 35.7+ KB\n"
     ]
    }
   ],
   "source": [
    "#There are no duplicate device_ids in the data set.\n",
    "#Checking for common device_ids in the 406 data set.\n",
    "events_2 = pd.merge(events_1,mobile,on='device_id',how='inner')\n",
    "events_2.info()"
   ]
  },
  {
   "cell_type": "code",
   "execution_count": 30,
   "id": "c4ee9d7b",
   "metadata": {},
   "outputs": [
    {
     "name": "stdout",
     "output_type": "stream",
     "text": [
      "<class 'pandas.core.frame.DataFrame'>\n",
      "Int64Index: 60865 entries, 0 to 60864\n",
      "Data columns (total 9 columns):\n",
      " #   Column     Non-Null Count  Dtype         \n",
      "---  ------     --------------  -----         \n",
      " 0   device_id  60865 non-null  float64       \n",
      " 1   timestamp  60865 non-null  datetime64[ns]\n",
      " 2   longitude  60865 non-null  float64       \n",
      " 3   latitude   60865 non-null  float64       \n",
      " 4   city       60865 non-null  object        \n",
      " 5   state      60865 non-null  object        \n",
      " 6   gender     406 non-null    object        \n",
      " 7   age        406 non-null    float64       \n",
      " 8   new_group  406 non-null    category      \n",
      "dtypes: category(1), datetime64[ns](1), float64(4), object(3)\n",
      "memory usage: 4.2+ MB\n"
     ]
    }
   ],
   "source": [
    "#Left Join \n",
    "\n",
    "events_3 = pd.merge(event_wE,gender_s,on='device_id',how='left')\n",
    "events_3.info(null_counts=True)"
   ]
  },
  {
   "cell_type": "code",
   "execution_count": 31,
   "id": "6473b8e6",
   "metadata": {
    "scrolled": true
   },
   "outputs": [
    {
     "name": "stdout",
     "output_type": "stream",
     "text": [
      "<class 'pandas.core.frame.DataFrame'>\n",
      "Int64Index: 60865 entries, 0 to 60864\n",
      "Data columns (total 11 columns):\n",
      " #   Column        Non-Null Count  Dtype         \n",
      "---  ------        --------------  -----         \n",
      " 0   device_id     60865 non-null  float64       \n",
      " 1   timestamp     60865 non-null  datetime64[ns]\n",
      " 2   longitude     60865 non-null  float64       \n",
      " 3   latitude      60865 non-null  float64       \n",
      " 4   city          60865 non-null  object        \n",
      " 5   state         60865 non-null  object        \n",
      " 6   gender        406 non-null    object        \n",
      " 7   age           406 non-null    float64       \n",
      " 8   new_group     406 non-null    category      \n",
      " 9   phone_brand   406 non-null    object        \n",
      " 10  device_model  406 non-null    object        \n",
      "dtypes: category(1), datetime64[ns](1), float64(4), object(5)\n",
      "memory usage: 5.2+ MB\n"
     ]
    }
   ],
   "source": [
    "#Left Join \n",
    "events_4 = pd.merge(events_3,mobile,on='device_id',how='left')\n",
    "events_4.info()"
   ]
  },
  {
   "cell_type": "code",
   "execution_count": 32,
   "id": "cff8626d",
   "metadata": {},
   "outputs": [],
   "source": [
    "#events_4.head()"
   ]
  },
  {
   "cell_type": "code",
   "execution_count": 33,
   "id": "ff00ec95",
   "metadata": {},
   "outputs": [
    {
     "name": "stdout",
     "output_type": "stream",
     "text": [
      "<class 'pandas.core.frame.DataFrame'>\n",
      "Int64Index: 60865 entries, 0 to 60864\n",
      "Data columns (total 12 columns):\n",
      " #   Column        Non-Null Count  Dtype         \n",
      "---  ------        --------------  -----         \n",
      " 0   device_id     60865 non-null  float64       \n",
      " 1   timestamp     60865 non-null  datetime64[ns]\n",
      " 2   longitude     60865 non-null  float64       \n",
      " 3   latitude      60865 non-null  float64       \n",
      " 4   city          60865 non-null  object        \n",
      " 5   state         60865 non-null  object        \n",
      " 6   gender        406 non-null    object        \n",
      " 7   age           406 non-null    float64       \n",
      " 8   new_group     406 non-null    category      \n",
      " 9   phone_brand   406 non-null    object        \n",
      " 10  device_model  406 non-null    object        \n",
      " 11  gender_i      60865 non-null  object        \n",
      "dtypes: category(1), datetime64[ns](1), float64(4), object(6)\n",
      "memory usage: 5.6+ MB\n"
     ]
    }
   ],
   "source": [
    "events_4['gender_i']= gender_s['gender'][0:60865]\n",
    "events_4.info()"
   ]
  },
  {
   "cell_type": "code",
   "execution_count": 34,
   "id": "d35d827c",
   "metadata": {
    "scrolled": true
   },
   "outputs": [
    {
     "name": "stdout",
     "output_type": "stream",
     "text": [
      "<class 'pandas.core.frame.DataFrame'>\n",
      "Int64Index: 60865 entries, 0 to 60864\n",
      "Data columns (total 13 columns):\n",
      " #   Column        Non-Null Count  Dtype         \n",
      "---  ------        --------------  -----         \n",
      " 0   device_id     60865 non-null  float64       \n",
      " 1   timestamp     60865 non-null  datetime64[ns]\n",
      " 2   longitude     60865 non-null  float64       \n",
      " 3   latitude      60865 non-null  float64       \n",
      " 4   city          60865 non-null  object        \n",
      " 5   state         60865 non-null  object        \n",
      " 6   gender        406 non-null    object        \n",
      " 7   age           406 non-null    float64       \n",
      " 8   new_group     406 non-null    category      \n",
      " 9   phone_brand   406 non-null    object        \n",
      " 10  device_model  406 non-null    object        \n",
      " 11  gender_i      60865 non-null  object        \n",
      " 12  age_i         60865 non-null  int64         \n",
      "dtypes: category(1), datetime64[ns](1), float64(4), int64(1), object(6)\n",
      "memory usage: 6.1+ MB\n"
     ]
    }
   ],
   "source": [
    "events_4['age_i']= gender_s['age'][0:60865]\n",
    "events_4.info()"
   ]
  },
  {
   "cell_type": "code",
   "execution_count": 35,
   "id": "2b3307f9",
   "metadata": {},
   "outputs": [
    {
     "name": "stdout",
     "output_type": "stream",
     "text": [
      "<class 'pandas.core.frame.DataFrame'>\n",
      "Int64Index: 60865 entries, 0 to 60864\n",
      "Data columns (total 15 columns):\n",
      " #   Column         Non-Null Count  Dtype         \n",
      "---  ------         --------------  -----         \n",
      " 0   device_id      60865 non-null  float64       \n",
      " 1   timestamp      60865 non-null  datetime64[ns]\n",
      " 2   longitude      60865 non-null  float64       \n",
      " 3   latitude       60865 non-null  float64       \n",
      " 4   city           60865 non-null  object        \n",
      " 5   state          60865 non-null  object        \n",
      " 6   gender         406 non-null    object        \n",
      " 7   age            406 non-null    float64       \n",
      " 8   new_group      406 non-null    category      \n",
      " 9   phone_brand    406 non-null    object        \n",
      " 10  device_model   60865 non-null  object        \n",
      " 11  gender_i       60865 non-null  object        \n",
      " 12  age_i          60865 non-null  int64         \n",
      " 13  new_group_i    60865 non-null  category      \n",
      " 14  phone_brand_i  60865 non-null  object        \n",
      "dtypes: category(2), datetime64[ns](1), float64(4), int64(1), object(7)\n",
      "memory usage: 6.6+ MB\n"
     ]
    }
   ],
   "source": [
    "events_4['new_group_i']= gender_s['new_group'][0:60865]\n",
    "events_4['phone_brand_i']= mobile['phone_brand'][0:60865]\n",
    "events_4['device_model_i']= mobile['device_model'][0:60865]\n",
    "events_4.info()"
   ]
  },
  {
   "cell_type": "code",
   "execution_count": 36,
   "id": "a8279f37",
   "metadata": {},
   "outputs": [
    {
     "name": "stdout",
     "output_type": "stream",
     "text": [
      "<class 'pandas.core.frame.DataFrame'>\n",
      "Int64Index: 60865 entries, 0 to 60864\n",
      "Data columns (total 11 columns):\n",
      " #   Column         Non-Null Count  Dtype         \n",
      "---  ------         --------------  -----         \n",
      " 0   device_id      60865 non-null  float64       \n",
      " 1   timestamp      60865 non-null  datetime64[ns]\n",
      " 2   longitude      60865 non-null  float64       \n",
      " 3   latitude       60865 non-null  float64       \n",
      " 4   city           60865 non-null  object        \n",
      " 5   state          60865 non-null  object        \n",
      " 6   device_model   60865 non-null  object        \n",
      " 7   gender_i       60865 non-null  object        \n",
      " 8   age_i          60865 non-null  int64         \n",
      " 9   new_group_i    60865 non-null  category      \n",
      " 10  phone_brand_i  60865 non-null  object        \n",
      "dtypes: category(1), datetime64[ns](1), float64(3), int64(1), object(5)\n",
      "memory usage: 5.2+ MB\n"
     ]
    }
   ],
   "source": [
    "events_f = events_4.drop(['gender','age','new_group','phone_brand'],axis=1)\n",
    "events_f.info()"
   ]
  },
  {
   "cell_type": "code",
   "execution_count": 37,
   "id": "6fda4713",
   "metadata": {
    "scrolled": true
   },
   "outputs": [
    {
     "data": {
      "text/html": [
       "<div>\n",
       "<style scoped>\n",
       "    .dataframe tbody tr th:only-of-type {\n",
       "        vertical-align: middle;\n",
       "    }\n",
       "\n",
       "    .dataframe tbody tr th {\n",
       "        vertical-align: top;\n",
       "    }\n",
       "\n",
       "    .dataframe thead th {\n",
       "        text-align: right;\n",
       "    }\n",
       "</style>\n",
       "<table border=\"1\" class=\"dataframe\">\n",
       "  <thead>\n",
       "    <tr style=\"text-align: right;\">\n",
       "      <th></th>\n",
       "      <th>device_id</th>\n",
       "      <th>timestamp</th>\n",
       "      <th>longitude</th>\n",
       "      <th>latitude</th>\n",
       "      <th>city</th>\n",
       "      <th>state</th>\n",
       "      <th>device_model</th>\n",
       "      <th>gender_i</th>\n",
       "      <th>age_i</th>\n",
       "      <th>new_group_i</th>\n",
       "      <th>phone_brand_i</th>\n",
       "    </tr>\n",
       "  </thead>\n",
       "  <tbody>\n",
       "    <tr>\n",
       "      <th>0</th>\n",
       "      <td>2973347786994914304.00</td>\n",
       "      <td>2016-05-07 22:52:05</td>\n",
       "      <td>77.23</td>\n",
       "      <td>28.73</td>\n",
       "      <td>Delhi</td>\n",
       "      <td>Delhi</td>\n",
       "      <td>Y13</td>\n",
       "      <td>M</td>\n",
       "      <td>35</td>\n",
       "      <td>(30, 40]</td>\n",
       "      <td>vivo</td>\n",
       "    </tr>\n",
       "    <tr>\n",
       "      <th>1</th>\n",
       "      <td>4734221357723754496.00</td>\n",
       "      <td>2016-05-01 20:44:16</td>\n",
       "      <td>88.39</td>\n",
       "      <td>22.66</td>\n",
       "      <td>Calcutta</td>\n",
       "      <td>WestBengal</td>\n",
       "      <td>V183</td>\n",
       "      <td>M</td>\n",
       "      <td>35</td>\n",
       "      <td>(30, 40]</td>\n",
       "      <td>Xiaomi</td>\n",
       "    </tr>\n",
       "    <tr>\n",
       "      <th>2</th>\n",
       "      <td>-3264499652692492800.00</td>\n",
       "      <td>2016-05-02 14:23:04</td>\n",
       "      <td>77.26</td>\n",
       "      <td>28.76</td>\n",
       "      <td>Delhi</td>\n",
       "      <td>Delhi</td>\n",
       "      <td>R7s</td>\n",
       "      <td>M</td>\n",
       "      <td>35</td>\n",
       "      <td>(30, 40]</td>\n",
       "      <td>OPPO</td>\n",
       "    </tr>\n",
       "    <tr>\n",
       "      <th>3</th>\n",
       "      <td>5731369272434022400.00</td>\n",
       "      <td>2016-05-03 13:21:16</td>\n",
       "      <td>80.34</td>\n",
       "      <td>13.15</td>\n",
       "      <td>Chennai</td>\n",
       "      <td>TamilNadu</td>\n",
       "      <td>A368t</td>\n",
       "      <td>M</td>\n",
       "      <td>30</td>\n",
       "      <td>(20, 30]</td>\n",
       "      <td>Samsung</td>\n",
       "    </tr>\n",
       "    <tr>\n",
       "      <th>4</th>\n",
       "      <td>338888002570799936.00</td>\n",
       "      <td>2016-05-06 03:51:05</td>\n",
       "      <td>86.00</td>\n",
       "      <td>23.84</td>\n",
       "      <td>Bokaro</td>\n",
       "      <td>Jharkhand</td>\n",
       "      <td>红米Note2</td>\n",
       "      <td>M</td>\n",
       "      <td>30</td>\n",
       "      <td>(20, 30]</td>\n",
       "      <td>Xiaomi</td>\n",
       "    </tr>\n",
       "  </tbody>\n",
       "</table>\n",
       "</div>"
      ],
      "text/plain": [
       "                device_id           timestamp  longitude  latitude      city  \\\n",
       "0  2973347786994914304.00 2016-05-07 22:52:05      77.23     28.73     Delhi   \n",
       "1  4734221357723754496.00 2016-05-01 20:44:16      88.39     22.66  Calcutta   \n",
       "2 -3264499652692492800.00 2016-05-02 14:23:04      77.26     28.76     Delhi   \n",
       "3  5731369272434022400.00 2016-05-03 13:21:16      80.34     13.15   Chennai   \n",
       "4   338888002570799936.00 2016-05-06 03:51:05      86.00     23.84    Bokaro   \n",
       "\n",
       "        state device_model gender_i  age_i new_group_i phone_brand_i  \n",
       "0       Delhi          Y13        M     35    (30, 40]          vivo  \n",
       "1  WestBengal         V183        M     35    (30, 40]        Xiaomi  \n",
       "2       Delhi          R7s        M     35    (30, 40]          OPPO  \n",
       "3   TamilNadu        A368t        M     30    (20, 30]       Samsung  \n",
       "4   Jharkhand      红米Note2        M     30    (20, 30]        Xiaomi  "
      ]
     },
     "execution_count": 37,
     "metadata": {},
     "output_type": "execute_result"
    }
   ],
   "source": [
    "events_f.head()"
   ]
  },
  {
   "cell_type": "code",
   "execution_count": 38,
   "id": "fde49d55",
   "metadata": {},
   "outputs": [
    {
     "name": "stdout",
     "output_type": "stream",
     "text": [
      "<class 'pandas.core.frame.DataFrame'>\n",
      "Int64Index: 19032 entries, 1 to 60862\n",
      "Data columns (total 11 columns):\n",
      " #   Column         Non-Null Count  Dtype         \n",
      "---  ------         --------------  -----         \n",
      " 0   device_id      19032 non-null  float64       \n",
      " 1   timestamp      19032 non-null  datetime64[ns]\n",
      " 2   longitude      19032 non-null  float64       \n",
      " 3   latitude       19032 non-null  float64       \n",
      " 4   city           19032 non-null  object        \n",
      " 5   state          19032 non-null  object        \n",
      " 6   device_model   19032 non-null  object        \n",
      " 7   gender_i       19032 non-null  object        \n",
      " 8   age_i          19032 non-null  int64         \n",
      " 9   new_group_i    19032 non-null  category      \n",
      " 10  phone_brand_i  19032 non-null  object        \n",
      "dtypes: category(1), datetime64[ns](1), float64(3), int64(1), object(5)\n",
      "memory usage: 1.6+ MB\n"
     ]
    }
   ],
   "source": [
    "list1 = ['WestBengal', 'Karnataka', 'Gujarat', 'Bihar', 'Punjab', 'Kerala']\n",
    "FiltStates = events_f[events_f['state'].isin(list1)]\n",
    "FiltStates.info()\n"
   ]
  },
  {
   "cell_type": "markdown",
   "id": "48c59af1",
   "metadata": {},
   "source": [
    "# ___________________________________________________________"
   ]
  },
  {
   "cell_type": "markdown",
   "id": "51e3ede4",
   "metadata": {},
   "source": [
    "# Visualisations : "
   ]
  },
  {
   "cell_type": "code",
   "execution_count": 39,
   "id": "fd984a5b",
   "metadata": {
    "scrolled": true
   },
   "outputs": [
    {
     "data": {
      "image/png": "[encoded data removed]",
      "text/plain": [
       "<Figure size 1080x504 with 1 Axes>"
      ]
     },
     "metadata": {},
     "output_type": "display_data"
    }
   ],
   "source": [
    "1.#Distribution of Users Across Target States\n",
    "import numpy as np\n",
    "#Distribution of Users(device_id) across States.\n",
    "#labels = ['WestBengal', 'Karnataka', 'Gujarat', 'Bihar', 'Punjab', 'Kerala']\n",
    "#Users = ['device_id']\n",
    "figure= plt.figure(figsize=[15,7])\n",
    "FiltStates['state'].value_counts().nlargest(10).plot.pie(autopct='%3.2f%%', explode=np.ones(6)/28, wedgeprops =dict(width=0.18), shadow = False, startangle = 0)\n",
    "#plt.xticks(ticks =np.arange(0,90,5), size= 12)\n",
    "#plt.yticks(ticks = np.arange(0,8000,8), size= 12)\n",
    "plt.xlabel(xlabel='States',size=14)\n",
    "plt.ylabel(ylabel= 'Users',size=14)\n",
    "plt.title(label = 'Distribution of Users Across Target States', size= 16)\n",
    "plt.grid(b=True)\n",
    "plt.show()"
   ]
  },
  {
   "cell_type": "code",
   "execution_count": 40,
   "id": "5417f329",
   "metadata": {},
   "outputs": [
    {
     "data": {
      "image/png": "[encoded data removed]",
      "text/plain": [
       "<Figure size 432x288 with 1 Axes>"
      ]
     },
     "metadata": {
      "needs_background": "light"
     },
     "output_type": "display_data"
    }
   ],
   "source": [
    "# 1. Distribution of Users(device_id) across States.\n",
    "# TODO: Add the total frequencies on top of each bar in the plot.\n",
    "\n",
    "# test2.groupby('state')['device_id'].count().plot(kind = 'bar') \n",
    "UsrStates = FiltStates.groupby('state')['device_id'].count()\n",
    "UsrStates.plot(kind = 'bar',color = '#7D3C98')\n",
    "plt.xticks(rotation = 45)\n",
    "plt.xlabel('states')\n",
    "plt.ylabel('No. of users per state')\n",
    "plt.title(\"Distribution of Users across States\")\n",
    "plt.show()"
   ]
  },
  {
   "cell_type": "code",
   "execution_count": 41,
   "id": "558e7eb0",
   "metadata": {},
   "outputs": [],
   "source": [
    "#Distribution of Users across Phone Brands(Consider only 10 Most used Phone Brands)."
   ]
  },
  {
   "cell_type": "code",
   "execution_count": 52,
   "id": "a611dc1f",
   "metadata": {
    "scrolled": false
   },
   "outputs": [
    {
     "data": {
      "image/png": "[encoded data removed]",
      "text/plain": [
       "<Figure size 432x288 with 1 Axes>"
      ]
     },
     "metadata": {},
     "output_type": "display_data"
    }
   ],
   "source": [
    "#2. Distribution of User by Phone Brand Across Target States\n",
    "figure= plt.figure\n",
    "#(figsize=[15,7])\n",
    "FiltStates['phone_brand_i'].value_counts().nlargest(8).plot.pie(autopct='%3.2f%%', explode=np.ones(8)/10, wedgeprops =dict(width=0.35), shadow = False, startangle = 0)\n",
    "#plt.xticks(ticks =np.arange(0,110,10), size= 12)\n",
    "#plt.yticks(ticks = np.arange(0,110,10), size= 12)\n",
    "plt.xlabel(xlabel='Phone Brand',size=14)\n",
    "plt.ylabel(ylabel= 'Users',size=14)\n",
    "plt.title(label = 'Distribution of User by Phone Brand Across Target States', size= 16)\n",
    "plt.grid(b=True)\n",
    "plt.show()"
   ]
  },
  {
   "cell_type": "code",
   "execution_count": 43,
   "id": "4aa4a0b0",
   "metadata": {},
   "outputs": [],
   "source": [
    "#Distribution of Users across Gender. Male/Female  Pie Chart"
   ]
  },
  {
   "cell_type": "code",
   "execution_count": 44,
   "id": "448fe4b0",
   "metadata": {},
   "outputs": [
    {
     "data": {
      "image/png": "[encoded data removed]",
      "text/plain": [
       "<Figure size 720x504 with 1 Axes>"
      ]
     },
     "metadata": {},
     "output_type": "display_data"
    }
   ],
   "source": [
    "# 3. Distribution of Users across Gender.\n",
    "# TODO: Modify the \n",
    "\n",
    "fig = plt.figure(figsize =(10, 7))\n",
    "UsrGndr = FiltStates.groupby('gender_i')['device_id'].count()\n",
    "UsrGndr\n",
    "\n",
    "label = ['Female', 'Male']\n",
    "label\n",
    "exp = (0.05, 0.05)\n",
    "plt.pie(x= UsrGndr, autopct=\"%.1f%%\",explode = exp, labels=label)\n",
    "plt.show()"
   ]
  },
  {
   "cell_type": "code",
   "execution_count": 45,
   "id": "982cbee0",
   "metadata": {},
   "outputs": [
    {
     "data": {
      "text/plain": [
       "3.0"
      ]
     },
     "execution_count": 45,
     "metadata": {},
     "output_type": "execute_result"
    }
   ],
   "source": [
    "3.#Distribution of Users across Age Segments. pd.cut functions to reconstruct new age segments. \n"
   ]
  },
  {
   "cell_type": "code",
   "execution_count": 55,
   "id": "dc7ff5a2",
   "metadata": {},
   "outputs": [
    {
     "data": {
      "image/png": "[encoded data removed]",
      "text/plain": [
       "<Figure size 1080x504 with 1 Axes>"
      ]
     },
     "metadata": {
      "needs_background": "light"
     },
     "output_type": "display_data"
    }
   ],
   "source": [
    "#Distribution of User by Age Across  States\n",
    "figure= plt.figure(figsize=[15,7])\n",
    "#bin number\n",
    "b=15\n",
    "bins = range(10,101,int(100/b))\n",
    "FiltStates['age_i'].plot.hist(bins=bins)\n",
    "plt.xticks(ticks =np.arange(0,100,5), size= 12)\n",
    "plt.yticks(ticks = np.arange(0,10000,2000), size= 15)\n",
    "plt.xlabel(xlabel='Age',size=14)\n",
    "plt.ylabel(ylabel= 'Users',size=14)\n",
    "plt.title(label = 'Distribution of User by Age Across  States', size= 16)\n",
    "plt.grid(b=True)\n",
    "plt.show()\n",
    "\n",
    "\n"
   ]
  },
  {
   "cell_type": "code",
   "execution_count": 47,
   "id": "0f345f2f",
   "metadata": {},
   "outputs": [],
   "source": [
    "#Distribution of Phone Brands(Consider only the 10 Most used Phone Brands) for each Age Segment, State, and Gender."
   ]
  },
  {
   "cell_type": "code",
   "execution_count": null,
   "id": "058d9cca",
   "metadata": {},
   "outputs": [],
   "source": []
  },
  {
   "cell_type": "code",
   "execution_count": 48,
   "id": "34147436",
   "metadata": {},
   "outputs": [
    {
     "ename": "SyntaxError",
     "evalue": "invalid syntax (<ipython-input-48-006ecff83efa>, line 3)",
     "output_type": "error",
     "traceback": [
      "\u001b[0;36m  File \u001b[0;32m\"<ipython-input-48-006ecff83efa>\"\u001b[0;36m, line \u001b[0;32m3\u001b[0m\n\u001b[0;31m    chk = FiltStates[FiltStates['phone_brand_i'].value_counts().nlargest(10), axis=1]\u001b[0m\n\u001b[0m                                                                                  ^\u001b[0m\n\u001b[0;31mSyntaxError\u001b[0m\u001b[0;31m:\u001b[0m invalid syntax\n"
     ]
    }
   ],
   "source": [
    "# 5. Distribution of Phone Brands(Consider only the 10 Most used Phone Brands) for each Age Segment, State, and Gender.\n",
    "#fig = plt.figure(figsize =(15,7))\n",
    "#chk = FiltStates[FiltStates['phone_brand_i'].value_counts().nlargest(10)]\n",
    "sns.catplot(data=FiltStates(['phone_brand_i]),kind= 'count',x='new_group_i',hue= chk)\n",
    "#plt.xticks(rotation=45)\n",
    "#sns.catplot(data=FiltStates,kind= 'count',x='state',hue='phone_brand_i')\n",
    "#plt.xticks(rotation=45)\n",
    "#sns.catplot(data=FiltStates,kind= 'count',x='gender_i',hue='phone_brand_i')\n",
    "plt.show()"
   ]
  },
  {
   "cell_type": "code",
   "execution_count": null,
   "id": "6a2a4834",
   "metadata": {},
   "outputs": [],
   "source": [
    "#Distribution of Gender for each State, Age Segment and Phone Brand(Consider only the 10 Most used Phone Brands)."
   ]
  },
  {
   "cell_type": "code",
   "execution_count": 54,
   "id": "07f98341",
   "metadata": {},
   "outputs": [
    {
     "ename": "KeyError",
     "evalue": "'Column not found: gender'",
     "output_type": "error",
     "traceback": [
      "\u001b[0;31m---------------------------------------------------------------------------\u001b[0m",
      "\u001b[0;31mKeyError\u001b[0m                                  Traceback (most recent call last)",
      "\u001b[0;32m<ipython-input-54-ee50283a2af4>\u001b[0m in \u001b[0;36m<module>\u001b[0;34m\u001b[0m\n\u001b[1;32m      2\u001b[0m \u001b[0;31m#\u001b[0m\u001b[0;34m\u001b[0m\u001b[0;34m\u001b[0m\u001b[0;34m\u001b[0m\u001b[0m\n\u001b[1;32m      3\u001b[0m \u001b[0;34m\u001b[0m\u001b[0m\n\u001b[0;32m----> 4\u001b[0;31m \u001b[0mFiltStates\u001b[0m\u001b[0;34m.\u001b[0m\u001b[0mgroupby\u001b[0m\u001b[0;34m(\u001b[0m\u001b[0mby\u001b[0m\u001b[0;34m=\u001b[0m\u001b[0;34m[\u001b[0m\u001b[0;34m'phone_brand_i'\u001b[0m\u001b[0;34m]\u001b[0m\u001b[0;34m)\u001b[0m\u001b[0;34m[\u001b[0m\u001b[0;34m'gender'\u001b[0m\u001b[0;34m]\u001b[0m\u001b[0;34m.\u001b[0m\u001b[0mvalue_counts\u001b[0m\u001b[0;34m(\u001b[0m\u001b[0;34m)\u001b[0m\u001b[0;34m.\u001b[0m\u001b[0mplot\u001b[0m\u001b[0;34m.\u001b[0m\u001b[0mbar\u001b[0m\u001b[0;34m(\u001b[0m\u001b[0mcolor\u001b[0m\u001b[0;34m=\u001b[0m\u001b[0;34m'blue'\u001b[0m\u001b[0;34m)\u001b[0m\u001b[0;34m\u001b[0m\u001b[0;34m\u001b[0m\u001b[0m\n\u001b[0m\u001b[1;32m      5\u001b[0m \u001b[0mFiltStates\u001b[0m\u001b[0;34m.\u001b[0m\u001b[0mgroupby\u001b[0m\u001b[0;34m(\u001b[0m\u001b[0mby\u001b[0m\u001b[0;34m=\u001b[0m\u001b[0;34m[\u001b[0m\u001b[0;34m'phone_brand_i'\u001b[0m\u001b[0;34m]\u001b[0m\u001b[0;34m)\u001b[0m\u001b[0;34m[\u001b[0m\u001b[0;34m'state'\u001b[0m\u001b[0;34m]\u001b[0m\u001b[0;34m.\u001b[0m\u001b[0mvalue_counts\u001b[0m\u001b[0;34m(\u001b[0m\u001b[0;34m)\u001b[0m\u001b[0;34m.\u001b[0m\u001b[0mplot\u001b[0m\u001b[0;34m.\u001b[0m\u001b[0mbar\u001b[0m\u001b[0;34m(\u001b[0m\u001b[0mcolor\u001b[0m\u001b[0;34m=\u001b[0m\u001b[0;34m'brown'\u001b[0m\u001b[0;34m)\u001b[0m\u001b[0;34m\u001b[0m\u001b[0;34m\u001b[0m\u001b[0m\n\u001b[1;32m      6\u001b[0m \u001b[0mFiltStates\u001b[0m\u001b[0;34m.\u001b[0m\u001b[0mgroupby\u001b[0m\u001b[0;34m(\u001b[0m\u001b[0mby\u001b[0m\u001b[0;34m=\u001b[0m\u001b[0;34m[\u001b[0m\u001b[0;34m'phone_brand_i'\u001b[0m\u001b[0;34m]\u001b[0m\u001b[0;34m)\u001b[0m\u001b[0;34m[\u001b[0m\u001b[0;34m'age'\u001b[0m\u001b[0;34m]\u001b[0m\u001b[0;34m.\u001b[0m\u001b[0mvalue_counts\u001b[0m\u001b[0;34m(\u001b[0m\u001b[0;34m)\u001b[0m\u001b[0;34m.\u001b[0m\u001b[0mplot\u001b[0m\u001b[0;34m.\u001b[0m\u001b[0mbar\u001b[0m\u001b[0;34m(\u001b[0m\u001b[0mcolor\u001b[0m\u001b[0;34m=\u001b[0m\u001b[0;34m'orange'\u001b[0m\u001b[0;34m)\u001b[0m\u001b[0;34m\u001b[0m\u001b[0;34m\u001b[0m\u001b[0m\n",
      "\u001b[0;32m~/opt/anaconda3/lib/python3.8/site-packages/pandas/core/groupby/generic.py\u001b[0m in \u001b[0;36m__getitem__\u001b[0;34m(self, key)\u001b[0m\n\u001b[1;32m   1540\u001b[0m                 \u001b[0mstacklevel\u001b[0m\u001b[0;34m=\u001b[0m\u001b[0;36m2\u001b[0m\u001b[0;34m,\u001b[0m\u001b[0;34m\u001b[0m\u001b[0;34m\u001b[0m\u001b[0m\n\u001b[1;32m   1541\u001b[0m             )\n\u001b[0;32m-> 1542\u001b[0;31m         \u001b[0;32mreturn\u001b[0m \u001b[0msuper\u001b[0m\u001b[0;34m(\u001b[0m\u001b[0;34m)\u001b[0m\u001b[0;34m.\u001b[0m\u001b[0m__getitem__\u001b[0m\u001b[0;34m(\u001b[0m\u001b[0mkey\u001b[0m\u001b[0;34m)\u001b[0m\u001b[0;34m\u001b[0m\u001b[0;34m\u001b[0m\u001b[0m\n\u001b[0m\u001b[1;32m   1543\u001b[0m \u001b[0;34m\u001b[0m\u001b[0m\n\u001b[1;32m   1544\u001b[0m     \u001b[0;32mdef\u001b[0m \u001b[0m_gotitem\u001b[0m\u001b[0;34m(\u001b[0m\u001b[0mself\u001b[0m\u001b[0;34m,\u001b[0m \u001b[0mkey\u001b[0m\u001b[0;34m,\u001b[0m \u001b[0mndim\u001b[0m\u001b[0;34m:\u001b[0m \u001b[0mint\u001b[0m\u001b[0;34m,\u001b[0m \u001b[0msubset\u001b[0m\u001b[0;34m=\u001b[0m\u001b[0;32mNone\u001b[0m\u001b[0;34m)\u001b[0m\u001b[0;34m:\u001b[0m\u001b[0;34m\u001b[0m\u001b[0;34m\u001b[0m\u001b[0m\n",
      "\u001b[0;32m~/opt/anaconda3/lib/python3.8/site-packages/pandas/core/base.py\u001b[0m in \u001b[0;36m__getitem__\u001b[0;34m(self, key)\u001b[0m\n\u001b[1;32m    278\u001b[0m             \u001b[0;31m# error: \"SelectionMixin\" has no attribute \"obj\"  [attr-defined]\u001b[0m\u001b[0;34m\u001b[0m\u001b[0;34m\u001b[0m\u001b[0;34m\u001b[0m\u001b[0m\n\u001b[1;32m    279\u001b[0m             \u001b[0;32mif\u001b[0m \u001b[0mkey\u001b[0m \u001b[0;32mnot\u001b[0m \u001b[0;32min\u001b[0m \u001b[0mself\u001b[0m\u001b[0;34m.\u001b[0m\u001b[0mobj\u001b[0m\u001b[0;34m:\u001b[0m  \u001b[0;31m# type: ignore[attr-defined]\u001b[0m\u001b[0;34m\u001b[0m\u001b[0;34m\u001b[0m\u001b[0m\n\u001b[0;32m--> 280\u001b[0;31m                 \u001b[0;32mraise\u001b[0m \u001b[0mKeyError\u001b[0m\u001b[0;34m(\u001b[0m\u001b[0;34mf\"Column not found: {key}\"\u001b[0m\u001b[0;34m)\u001b[0m\u001b[0;34m\u001b[0m\u001b[0;34m\u001b[0m\u001b[0m\n\u001b[0m\u001b[1;32m    281\u001b[0m             \u001b[0;32mreturn\u001b[0m \u001b[0mself\u001b[0m\u001b[0;34m.\u001b[0m\u001b[0m_gotitem\u001b[0m\u001b[0;34m(\u001b[0m\u001b[0mkey\u001b[0m\u001b[0;34m,\u001b[0m \u001b[0mndim\u001b[0m\u001b[0;34m=\u001b[0m\u001b[0;36m1\u001b[0m\u001b[0;34m)\u001b[0m\u001b[0;34m\u001b[0m\u001b[0;34m\u001b[0m\u001b[0m\n\u001b[1;32m    282\u001b[0m \u001b[0;34m\u001b[0m\u001b[0m\n",
      "\u001b[0;31mKeyError\u001b[0m: 'Column not found: gender'"
     ]
    },
    {
     "data": {
      "text/plain": [
       "<Figure size 1080x504 with 0 Axes>"
      ]
     },
     "metadata": {},
     "output_type": "display_data"
    }
   ],
   "source": [
    "figure= plt.figure(figsize=[15,7])\n",
    "#\n",
    "\n",
    "FiltStates.groupby(by=['phone_brand_i'])['gender'].value_counts().plot.bar(color='blue')\n",
    "FiltStates.groupby(by=['phone_brand_i'])['state'].value_counts().plot.bar(color='brown')\n",
    "FiltStates.groupby(by=['phone_brand_i'])['age'].value_counts().plot.bar(color='orange')"
   ]
  },
  {
   "cell_type": "code",
   "execution_count": null,
   "id": "ec8a7440",
   "metadata": {},
   "outputs": [],
   "source": [
    "#Distribution of Age Segments for each State, Gender and Phone Brand(Consider only the 10 Most used Phone Brands)."
   ]
  },
  {
   "cell_type": "code",
   "execution_count": null,
   "id": "c2970363",
   "metadata": {},
   "outputs": [],
   "source": []
  },
  {
   "cell_type": "code",
   "execution_count": null,
   "id": "3f863567",
   "metadata": {},
   "outputs": [],
   "source": [
    "#Note: While doing analysis for the above points, consider only one instance of a particular User(device_id) as a User can do multiple phone calls and considering every instance of the same User can give misleading numbers."
   ]
  },
  {
   "cell_type": "code",
   "execution_count": null,
   "id": "2baebe8b",
   "metadata": {},
   "outputs": [],
   "source": []
  },
  {
   "cell_type": "code",
   "execution_count": null,
   "id": "9a9582f9",
   "metadata": {},
   "outputs": [],
   "source": [
    "#Hourly distribution of Phone Calls."
   ]
  },
  {
   "cell_type": "code",
   "execution_count": 58,
   "id": "1853cc5f",
   "metadata": {
    "scrolled": true
   },
   "outputs": [
    {
     "name": "stdout",
     "output_type": "stream",
     "text": [
      "<class 'pandas.core.frame.DataFrame'>\n",
      "Int64Index: 19032 entries, 1 to 60862\n",
      "Data columns (total 14 columns):\n",
      " #   Column         Non-Null Count  Dtype         \n",
      "---  ------         --------------  -----         \n",
      " 0   device_id      19032 non-null  float64       \n",
      " 1   timestamp      19032 non-null  datetime64[ns]\n",
      " 2   longitude      19032 non-null  float64       \n",
      " 3   latitude       19032 non-null  float64       \n",
      " 4   city           19032 non-null  object        \n",
      " 5   state          19032 non-null  object        \n",
      " 6   device_model   19032 non-null  object        \n",
      " 7   gender_i       19032 non-null  object        \n",
      " 8   age_i          19032 non-null  int64         \n",
      " 9   new_group_i    19032 non-null  category      \n",
      " 10  phone_brand_i  19032 non-null  object        \n",
      " 11  Hour           19032 non-null  int64         \n",
      " 12  Month          19032 non-null  object        \n",
      " 13  Day of Week    16202 non-null  object        \n",
      "dtypes: category(1), datetime64[ns](1), float64(3), int64(2), object(7)\n",
      "memory usage: 2.1+ MB\n"
     ]
    }
   ],
   "source": [
    "# 8. Hourly distribution of Phone Calls.\n",
    "import datetime as dt\n",
    "\n",
    "#list1 = ['WestBengal', 'Karnataka', 'Gujarat', 'Bihar', 'Punjab', 'Kerala']\n",
    "#PhHrdist = PhHrdist[PhHrdist['state'].isin(list1)]\n",
    "\n",
    "#Extracting Hour data from timestamp\n",
    "FiltStates['Hour'] = FiltStates['timestamp'].dt.hour\n",
    "\n",
    "#Extracting Month data from timestamp and mapping it to list monthmap\n",
    "monthmap={1:\"Jan\", 2:\"Feb\", 3:\"Mar\", 4:\"Apr\", 5:\"May\", 6:\"Jun\", 7:\"Jul\", 8:\"Aug\", 9:\"Sep\",10:\"Oct\", 11:\"Nov\", 12:\"Dec\"}\n",
    "FiltStates['Month'] = FiltStates['timestamp'].dt.month\n",
    "# PhHrdist[\"Month\"]=PhHrdist[\"Month\"].map(monthmap)\n",
    "FiltStates[\"Month\"]=FiltStates[\"Month\"].map(monthmap)\n",
    "\n",
    "#Extracting Day of Week data from timestamp and mapping it to list weekmap\n",
    "weekmap={0:\"Mon\", 1:\"Tue\", 2:\"Wed\", 3:\"Thur\", 4:\"Fri\", 5:\"Sat\", 6:\"Sun\"}\n",
    "FiltStates[\"Day of Week\"] = (FiltStates['timestamp'].dt.dayofweek) + 1\n",
    "FiltStates[\"Day of Week\"]=FiltStates[\"Day of Week\"].map(weekmap)\n",
    "\n",
    "FiltStates.info()"
   ]
  },
  {
   "cell_type": "code",
   "execution_count": 59,
   "id": "03ece543",
   "metadata": {},
   "outputs": [
    {
     "data": {
      "text/plain": [
       "<AxesSubplot:>"
      ]
     },
     "execution_count": 59,
     "metadata": {},
     "output_type": "execute_result"
    },
    {
     "data": {
      "image/png": "[encoded data removed]",
      "text/plain": [
       "<Figure size 432x288 with 1 Axes>"
      ]
     },
     "metadata": {
      "needs_background": "light"
     },
     "output_type": "display_data"
    }
   ],
   "source": [
    "FiltStates[\"Hour\"].value_counts().sort_index().plot.bar()"
   ]
  },
  {
   "cell_type": "code",
   "execution_count": null,
   "id": "5f45a24e",
   "metadata": {},
   "outputs": [],
   "source": [
    "#Plot the Users on the Map using any suitable package."
   ]
  },
  {
   "cell_type": "code",
   "execution_count": null,
   "id": "6b36be7b",
   "metadata": {},
   "outputs": [],
   "source": []
  }
 ],
 "metadata": {
  "kernelspec": {
   "display_name": "Python 3",
   "language": "python",
   "name": "python3"
  },
  "language_info": {
   "codemirror_mode": {
    "name": "ipython",
    "version": 3
   },
   "file_extension": ".py",
   "mimetype": "text/x-python",
   "name": "python",
   "nbconvert_exporter": "python",
   "pygments_lexer": "ipython3",
   "version": "3.8.8"
  }
 },
 "nbformat": 4,
 "nbformat_minor": 5
}
